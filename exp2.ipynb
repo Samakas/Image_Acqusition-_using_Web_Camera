{
 "cells": [
  {
   "cell_type": "markdown",
   "id": "7a8d3f78-9c1e-4496-9bf8-9e5529dee74c",
   "metadata": {},
   "source": [
    "# i) Write the frame as JPG file"
   ]
  },
  {
   "cell_type": "code",
   "execution_count": 8,
   "id": "73e0db80-c08a-425e-b2ec-0ad09e36a083",
   "metadata": {},
   "outputs": [],
   "source": [
    "import cv2\n",
    "viedoCaptureObject=cv2.VideoCapture(0)\n",
    "\n",
    "ret,frame=viedoCaptureObject.read()\n",
    "cv2.imwrite(\"captured_frame.jpg\",frame)\n",
    "\n",
    "viedoCaptureObject.release()\n",
    "cv2.destroyAllWindows()"
   ]
  },
  {
   "cell_type": "markdown",
   "id": "17f3954c-501c-47e9-897d-f73b172588a1",
   "metadata": {},
   "source": [
    "# ii) Display the video"
   ]
  },
  {
   "cell_type": "code",
   "execution_count": 18,
   "id": "2eab3f0e-443e-4283-89f9-c83821faf7ac",
   "metadata": {},
   "outputs": [],
   "source": [
    "import numpy as np\n",
    "import cv2\n",
    "\n",
    "cap = cv2.VideoCapture(0)\n",
    "ret, frame = cap.read()\n",
    "\n",
    "cv2.imshow('captured_frame', frame)\n",
    "\n",
    "cv2.waitKey(10000)\n",
    "\n",
    "\n",
    "cap.release()\n",
    "cv2.destroyAllWindows()"
   ]
  },
  {
   "cell_type": "markdown",
   "id": "6f6e58e4-3365-4805-91ab-3b82b0109ceb",
   "metadata": {},
   "source": [
    "# iii) Display the video by resizing the window"
   ]
  },
  {
   "cell_type": "code",
   "execution_count": 12,
   "id": "8e245003-e377-4019-aebe-60fe77c2bafd",
   "metadata": {},
   "outputs": [],
   "source": [
    "import numpy as np\n",
    "import cv2\n",
    "cap=cv2.VideoCapture(0)\n",
    "\n",
    "ret,frame=cap.read()\n",
    "width=int(cap.get(3))\n",
    "height=int(cap.get(4))\n",
    "image=np.zeros(frame.shape,np.uint8)\n",
    "smaller_frame=cv2.resize(frame,(0,0),fx=0.5,fy=0.5)\n",
    "image[:height//2, :width//2]=smaller_frame\n",
    "image[height//2:, :width//2]=smaller_frame\n",
    "image[:height//2, width//2:]=smaller_frame\n",
    "image[height//2:, width//2:]=smaller_frame\n",
    "\n",
    "cv2.imshow('',image)\n",
    "\n",
    "cv2.waitKey(5000)  \n",
    "\n",
    "image_dict = {'captured_image1': image}\n",
    "cv2.imwrite('captured_image1.jpg', image)\n",
    "\n",
    "cap.release()\n",
    "cv2.destroyAllWindows()"
   ]
  },
  {
   "cell_type": "markdown",
   "id": "73c7476d-b2cb-4662-ac41-859f81b7154e",
   "metadata": {},
   "source": [
    "# iv) Rotate and display the video"
   ]
  },
  {
   "cell_type": "code",
   "execution_count": 16,
   "id": "51c03ce8-f26d-4c33-a9ec-fe86f1ca8944",
   "metadata": {},
   "outputs": [],
   "source": [
    "import numpy as np\n",
    "import cv2\n",
    "cap=cv2.VideoCapture(0)\n",
    "\n",
    "ret,frame=cap.read()\n",
    "width=int(cap.get(3))\n",
    "height=int(cap.get(4))\n",
    "image=np.zeros(frame.shape,np.uint8)\n",
    "smaller_frame=cv2.resize(frame,(0,0),fx=0.5,fy=0.5)\n",
    "image[:height//2, :width//2]=cv2.rotate(smaller_frame,cv2.ROTATE_180)\n",
    "image[height//2:, :width//2]=smaller_frame\n",
    "image[:height//2, width//2:]=cv2.rotate(smaller_frame,cv2.ROTATE_180)\n",
    "image[height//2:, width//2:]=smaller_frame\n",
    "\n",
    "cv2.imshow('',image)\n",
    "\n",
    "cv2.waitKey(5000) \n",
    "\n",
    "image_dict = {'captured_image2': image}\n",
    "cv2.imwrite('captured_image2.jpg', image)\n",
    "\n",
    "cap.release()\n",
    "cv2.destroyAllWindows()"
   ]
  },
  {
   "cell_type": "code",
   "execution_count": null,
   "id": "942d1bc6-6a1c-4274-b245-c28f6e8b8d36",
   "metadata": {},
   "outputs": [],
   "source": []
  }
 ],
 "metadata": {
  "kernelspec": {
   "display_name": "Python 3 (ipykernel)",
   "language": "python",
   "name": "python3"
  },
  "language_info": {
   "codemirror_mode": {
    "name": "ipython",
    "version": 3
   },
   "file_extension": ".py",
   "mimetype": "text/x-python",
   "name": "python",
   "nbconvert_exporter": "python",
   "pygments_lexer": "ipython3",
   "version": "3.12.9"
  }
 },
 "nbformat": 4,
 "nbformat_minor": 5
}
